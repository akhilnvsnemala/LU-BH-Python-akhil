{
  "nbformat": 4,
  "nbformat_minor": 0,
  "metadata": {
    "colab": {
      "name": "new_py_asignment4&5.ipynb",
      "provenance": [],
      "collapsed_sections": [],
      "authorship_tag": "ABX9TyMo3cC38CakXvzp4N5mnkZm",
      "include_colab_link": true
    },
    "kernelspec": {
      "name": "python3",
      "display_name": "Python 3"
    },
    "language_info": {
      "name": "python"
    }
  },
  "cells": [
    {
      "cell_type": "markdown",
      "metadata": {
        "id": "view-in-github",
        "colab_type": "text"
      },
      "source": [
        "<a href=\"https://colab.research.google.com/github/akhilnvsnemala/LU-BH-Python-akhil/blob/main/new_py_asignment4%265.ipynb\" target=\"_parent\"><img src=\"https://colab.research.google.com/assets/colab-badge.svg\" alt=\"Open In Colab\"/></a>"
      ]
    },
    {
      "cell_type": "code",
      "metadata": {
        "id": "xV6IEgeDdtLX"
      },
      "source": [
        "#assignment 5 & 6\n",
        "#build a function for finding number is prime or not\n",
        "#build youtube downloader app using library in python refer pypi.org"
      ],
      "execution_count": null,
      "outputs": []
    },
    {
      "cell_type": "code",
      "metadata": {
        "colab": {
          "base_uri": "https://localhost:8080/"
        },
        "id": "yjYiOR8mf-P7",
        "outputId": "bdf9cacf-b4a0-4aa3-81f1-ed42101e8154"
      },
      "source": [
        "#prime or not\n",
        "def prime(num):\n",
        "    rls=''\n",
        "    s=int(num/2)\n",
        "    for i in range(2,s+1):\n",
        "        if num%i==0:\n",
        "            rls= str(num)+\" is not prime\"\n",
        "            return rls\n",
        "            break\n",
        "        else:\n",
        "            rls=str(num)+\" is prime\"\n",
        "            return rls\n",
        "    else:\n",
        "        rls=str(num)+\" is prime\"\n",
        "        return rls\n",
        "while True:\n",
        "  number = int(input(\"enter a number to check that number is prime or not - \"))\n",
        "  if number>1:\n",
        "    print(prime(number))\n",
        "    break\n",
        "  else:\n",
        "    print(\"1 or 0 and negitive values not allowed\")"
      ],
      "execution_count": null,
      "outputs": [
        {
          "output_type": "stream",
          "text": [
            "enter a number to check that number is prime or not - 0\n",
            "1 or 0 and negitive values not allowed\n",
            "enter a number to check that number is prime or not - -1\n",
            "1 or 0 and negitive values not allowed\n",
            "enter a number to check that number is prime or not - 5\n",
            "5 is prime\n"
          ],
          "name": "stdout"
        }
      ]
    },
    {
      "cell_type": "code",
      "metadata": {
        "id": "JWt2ldnsBlk9",
        "colab": {
          "base_uri": "https://localhost:8080/"
        },
        "outputId": "3e0e3ab9-e421-4eba-8896-a54566c7e06a"
      },
      "source": [
        "##assignment 5 youthube downloader\n",
        "\n",
        "! pip install pytube"
      ],
      "execution_count": 2,
      "outputs": [
        {
          "output_type": "stream",
          "text": [
            "Collecting pytube\n",
            "\u001b[?25l  Downloading https://files.pythonhosted.org/packages/9f/2e/92c42ac4fd8b702bb9fcac5a61bcb9740506376008aaa2c2093f6cbf4cb6/pytube-10.9.2-py3-none-any.whl (54kB)\n",
            "\r\u001b[K     |██████                          | 10kB 15.1MB/s eta 0:00:01\r\u001b[K     |████████████                    | 20kB 21.2MB/s eta 0:00:01\r\u001b[K     |██████████████████              | 30kB 14.4MB/s eta 0:00:01\r\u001b[K     |████████████████████████        | 40kB 11.4MB/s eta 0:00:01\r\u001b[K     |██████████████████████████████  | 51kB 5.7MB/s eta 0:00:01\r\u001b[K     |████████████████████████████████| 61kB 3.6MB/s \n",
            "\u001b[?25hInstalling collected packages: pytube\n",
            "Successfully installed pytube-10.9.2\n"
          ],
          "name": "stdout"
        }
      ]
    },
    {
      "cell_type": "code",
      "metadata": {
        "id": "Scl6pUCU9GiD"
      },
      "source": [
        "import pytube"
      ],
      "execution_count": 4,
      "outputs": []
    },
    {
      "cell_type": "code",
      "metadata": {
        "colab": {
          "base_uri": "https://localhost:8080/",
          "height": 52
        },
        "id": "p0C6LeED9KWq",
        "outputId": "509e8164-9f50-4dce-c5bd-1ed64a0e3d53"
      },
      "source": [
        "url = input(\"enter youtube url to download - \")\n",
        "youtube = pytube.YouTube(url)\n",
        "video = youtube.streams.first()\n",
        "video.download('D:\\vedios')"
      ],
      "execution_count": 6,
      "outputs": [
        {
          "output_type": "stream",
          "text": [
            "enter youtube url to download - https://www.youtube.com/watch?v=bi5PhlIQpwU\n"
          ],
          "name": "stdout"
        },
        {
          "output_type": "execute_result",
          "data": {
            "application/vnd.google.colaboratory.intrinsic+json": {
              "type": "string"
            },
            "text/plain": [
              "'/content/D:\\x0bedios/Nadiyon Paar - Full Song - Roohi  Janhvi Kapoor Sachin-Jigar  Shamur  Rashmeet K.mp4'"
            ]
          },
          "metadata": {
            "tags": []
          },
          "execution_count": 6
        }
      ]
    }
  ]
}