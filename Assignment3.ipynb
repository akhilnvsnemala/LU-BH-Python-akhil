{
  "nbformat": 4,
  "nbformat_minor": 0,
  "metadata": {
    "colab": {
      "name": "Assignment3",
      "provenance": [],
      "collapsed_sections": [],
      "authorship_tag": "ABX9TyMOA3Re8alxyKL9L76S32Cp",
      "include_colab_link": true
    },
    "kernelspec": {
      "name": "python3",
      "display_name": "Python 3"
    }
  },
  "cells": [
    {
      "cell_type": "markdown",
      "metadata": {
        "id": "view-in-github",
        "colab_type": "text"
      },
      "source": [
        "<a href=\"https://colab.research.google.com/github/akhilnvsnemala/LU-BH-Python-akhil/blob/main/Assignment3.ipynb\" target=\"_parent\"><img src=\"https://colab.research.google.com/assets/colab-badge.svg\" alt=\"Open In Colab\"/></a>"
      ]
    },
    {
      "cell_type": "markdown",
      "metadata": {
        "id": "fCpa8dSb7HlB"
      },
      "source": [
        "#Assignment 3\r\n"
      ]
    },
    {
      "cell_type": "markdown",
      "metadata": {
        "id": "Ja6999yL7L1V"
      },
      "source": [
        "Write a function in Python to check whether a number is Prime or not"
      ]
    },
    {
      "cell_type": "code",
      "metadata": {
        "colab": {
          "base_uri": "https://localhost:8080/"
        },
        "id": "eo69cknc7Ro1",
        "outputId": "9e70dd6d-c4a5-4f13-8606-34999679030f"
      },
      "source": [
        "def prime(num):\r\n",
        "    if num>1:\r\n",
        "        s=int(num/2)\r\n",
        "        for i in range(2,s+1):\r\n",
        "            if num%i==0:\r\n",
        "                return(\"not prime\")\r\n",
        "                break\r\n",
        "        return(\"prime\")\r\n",
        "print(prime(239)) "
      ],
      "execution_count": 1,
      "outputs": [
        {
          "output_type": "stream",
          "text": [
            "prime\n"
          ],
          "name": "stdout"
        }
      ]
    },
    {
      "cell_type": "code",
      "metadata": {
        "colab": {
          "base_uri": "https://localhost:8080/"
        },
        "id": "fORYSlUm7va1",
        "outputId": "198cab9c-3507-472a-9577-cc8df76210b3"
      },
      "source": [
        "print(prime(10))"
      ],
      "execution_count": 3,
      "outputs": [
        {
          "output_type": "stream",
          "text": [
            "not prime\n"
          ],
          "name": "stdout"
        }
      ]
    },
    {
      "cell_type": "code",
      "metadata": {
        "id": "Yaw__ZNm76eT"
      },
      "source": [
        ""
      ],
      "execution_count": null,
      "outputs": []
    }
  ]
}