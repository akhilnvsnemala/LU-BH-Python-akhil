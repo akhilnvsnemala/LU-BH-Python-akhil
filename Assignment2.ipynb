{
  "nbformat": 4,
  "nbformat_minor": 0,
  "metadata": {
    "colab": {
      "name": "Assignment2.ipynb",
      "provenance": [],
      "collapsed_sections": []
    },
    "kernelspec": {
      "name": "python3",
      "display_name": "Python 3"
    }
  },
  "cells": [
    {
      "cell_type": "markdown",
      "metadata": {
        "id": "mMdPKTv5xfHU"
      },
      "source": [
        "#Assignment 2"
      ]
    },
    {
      "cell_type": "markdown",
      "metadata": {
        "id": "PolGNjhtxnqC"
      },
      "source": [
        "-> You all are pilots, you have to land a plane, the altitude required for landing a plane is 1000ft, if it\r\n",
        "is less than that tell the pilot to land the plane, or it is more than that but less than 5000ft ask the\r\n",
        "pilot to \"come down to 1000ft\", else if it is more than 5000ft ask the pilot to \"go around and try\r\n",
        "later\""
      ]
    },
    {
      "cell_type": "code",
      "metadata": {
        "colab": {
          "base_uri": "https://localhost:8080/"
        },
        "id": "b1leCdH9ueBa",
        "outputId": "ef84cb8e-e41f-4943-840f-96e8065f6c94"
      },
      "source": [
        "pilotsHight = 200\r\n",
        "\r\n",
        "while pilotsHight :\r\n",
        "  if pilotsHight == \"1000\" :\r\n",
        "    print(\"Safe to land\")\r\n",
        "    break\r\n",
        "  elif pilotsHight == \"4500\" :\r\n",
        "    print(\"Bring down to 1000\")\r\n",
        "  elif pilotsHight == \"6500\" :\r\n",
        "    print(\"Turn Around\")\r\n",
        "  else :\r\n",
        "    print(\"Flying\")\r\n",
        " \r\n",
        "  pilotsHight = input(\"pilots whats the hight ? - \")"
      ],
      "execution_count": 17,
      "outputs": [
        {
          "output_type": "stream",
          "text": [
            "Flying\n",
            "pilots whats the hight ? - 4500\n",
            "Bring down to 1000\n",
            "pilots whats the hight ? - 6500\n",
            "Turn Around\n",
            "pilots whats the hight ? - 1000\n",
            "Safe to land\n"
          ],
          "name": "stdout"
        }
      ]
    }
  ]
}